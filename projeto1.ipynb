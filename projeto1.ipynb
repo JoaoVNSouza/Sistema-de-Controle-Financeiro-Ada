{
 "cells": [
  {
   "cell_type": "code",
   "execution_count": 1,
   "metadata": {},
   "outputs": [],
   "source": [
    "from datetime import datetime"
   ]
  },
  {
   "cell_type": "code",
   "execution_count": 6,
   "metadata": {},
   "outputs": [],
   "source": [
    "class Registros():\n",
    "    def __init__(self, tipo, valor, montante=None):\n",
    "        self.tipo = tipo\n",
    "        if tipo == 2:\n",
    "            self.valor = -valor\n",
    "        else:\n",
    "            self.valor = valor\n",
    "        self.montante = montante\n",
    "        self.data = datetime.now().strftime('%d/%m/%Y')\n",
    "        self.id = id()\n",
    "    \n",
    "    def atualiza_montante():\n",
    "        pass\n",
    "    \n",
    "    def atualiza():\n",
    "        pass\n",
    "        \n"
   ]
  },
  {
   "cell_type": "code",
   "execution_count": 10,
   "metadata": {},
   "outputs": [],
   "source": [
    "# funções CRUD\n",
    "\n",
    "def criar_registro():\n",
    "\n",
    "    print(\"CRIAR NOVO REGISTRO\")\n",
    "    print(\"1 - Receita\")\n",
    "    print(\"2 - Despesa\")\n",
    "    print(\"3 - Investimento\")\n",
    "    tipo = int(input(\"Qual o tipo de registro que deseja criar:\"))\n",
    "\n",
    "    # 1 - Receita\n",
    "    if tipo == 1:\n",
    "        valor = float(print(\"Qual o valor de receita a ser inserido:\"))\n",
    "        registro = Registro(tipo, valor)\n",
    "        \n",
    "    # 2 - Despesa\n",
    "    elif tipo == 2:\n",
    "        valor = float(print(\"Qual o valor de despesa a ser inserido:\"))\n",
    "        registro = Registro(tipo, valor)\n",
    "\n",
    "    # 3 - Investimento\n",
    "    elif tipo == 3:\n",
    "        valor = float(print(\"Qual o valor de investimento a ser inserido:\"))\n",
    "        montante = float(print(\"Qual o valor do montante do investimento a ser inserido:\"))\n",
    "        registro = Registro(tipo, valor, montante)\n",
    "\n",
    "    return registro\n",
    "\n",
    "def ler_registro():\n",
    "    pass\n",
    "\n",
    "def atualiza_registro():\n",
    "    pass\n",
    "\n",
    "def deleta_registro(registro):\n",
    "    pass\n"
   ]
  },
  {
   "cell_type": "code",
   "execution_count": 11,
   "metadata": {},
   "outputs": [],
   "source": [
    "# outras funcionalidades\n",
    "def atualiza_rendimento():\n",
    "    pass\n",
    "\n",
    "def exportar_relatorio():\n",
    "    pass\n",
    "\n",
    "def agrupar():\n",
    "    pass\n",
    "\n"
   ]
  },
  {
   "cell_type": "code",
   "execution_count": null,
   "metadata": {},
   "outputs": [],
   "source": []
  }
 ],
 "metadata": {
  "kernelspec": {
   "display_name": "Python 3",
   "language": "python",
   "name": "python3"
  },
  "language_info": {
   "codemirror_mode": {
    "name": "ipython",
    "version": 3
   },
   "file_extension": ".py",
   "mimetype": "text/x-python",
   "name": "python",
   "nbconvert_exporter": "python",
   "pygments_lexer": "ipython3",
   "version": "3.10.12"
  }
 },
 "nbformat": 4,
 "nbformat_minor": 2
}

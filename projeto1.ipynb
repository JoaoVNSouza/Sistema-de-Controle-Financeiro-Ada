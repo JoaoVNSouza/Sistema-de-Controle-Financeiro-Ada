{
 "cells": [
  {
   "cell_type": "code",
   "execution_count": 1,
   "metadata": {},
   "outputs": [],
   "source": [
    "from datetime import datetime"
   ]
  },
  {
   "cell_type": "code",
   "execution_count": 27,
   "metadata": {},
   "outputs": [],
   "source": [
    "class Registro:\n",
    "    def __init__(self, tipo, valor, montante=None):\n",
    "        self.tipo = tipo\n",
    "        if tipo == 2:\n",
    "            self.valor = -valor\n",
    "        else:\n",
    "            self.valor = valor\n",
    "        self.montante = montante\n"
   ]
  },
  {
   "cell_type": "code",
   "execution_count": 31,
   "metadata": {},
   "outputs": [],
   "source": [
    "# funções CRUD\n",
    "\n",
    "def criar_registro():\n",
    "\n",
    "    print(\"CRIAR NOVO REGISTRO\")\n",
    "    print(\"1 - Receita\")\n",
    "    print(\"2 - Despesa\")\n",
    "    print(\"3 - Investimento\")\n",
    "    tipo = int(input(\"Qual o tipo de registro que deseja criar:\"))\n",
    "\n",
    "    # 1 - Receita\n",
    "    if tipo == 1:\n",
    "        valor = float(input(\"Qual o valor de receita a ser inserido:\"))\n",
    "        registro = Registro(tipo, valor)\n",
    "        \n",
    "    # 2 - Despesa\n",
    "    elif tipo == 2:\n",
    "        valor = float(input(\"Qual o valor de despesa a ser inserido:\"))\n",
    "        registro = Registro(tipo, valor)\n",
    "\n",
    "    # 3 - Investimento\n",
    "    elif tipo == 3:\n",
    "        valor = float(input(\"Qual o valor de investimento a ser inserido:\"))\n",
    "        montante = float(input(\"Qual o valor do montante do investimento a ser inserido:\"))\n",
    "        registro = Registro(tipo, valor, montante)\n",
    "\n",
    "    return registro\n",
    "\n",
    "def ler_registro():\n",
    "    pass\n",
    "\n",
    "def atualiza_registro():\n",
    "    pass\n",
    "\n",
    "def deleta_registro(registro):\n",
    "    pass\n"
   ]
  },
  {
   "cell_type": "code",
   "execution_count": 11,
   "metadata": {},
   "outputs": [],
   "source": [
    "# outras funcionalidades\n",
    "def atualiza_rendimento():\n",
    "    pass\n",
    "\n",
    "def exportar_relatorio():\n",
    "    pass\n",
    "\n",
    "def agrupar():\n",
    "    pass\n",
    "\n"
   ]
  },
  {
   "cell_type": "code",
   "execution_count": 44,
   "metadata": {},
   "outputs": [],
   "source": [
    "def programa_rendimento():\n",
    "    print(\"PROGRAMA DE RENDIMENTOS\\n\")\n",
    "    print(\"1 - Criar novo registro\")\n",
    "    print(\"2 - Consultar registros\")\n",
    "    print(\"3 - Atualizar registro\")\n",
    "    print(\"4 - Excluir registro\")\n",
    "    print(\"5 - Sair\")\n",
    "\n",
    "    opcao = input(\"\\nDigite a opção escolhida: \")\n",
    "    registros = list()\n",
    "    \n",
    "    if opcao == \"1\":\n",
    "        registros.append(criar_registro())\n",
    "    elif opcao == \"2\":\n",
    "        ler_registro()\n",
    "    elif opcao == \"3\":\n",
    "        atualiza_registro()\n",
    "    elif opcao == \"4\":\n",
    "        deleta_registro()\n",
    "    elif opcao == \"5\":\n",
    "        exit\n",
    "    "
   ]
  },
  {
   "cell_type": "code",
   "execution_count": 45,
   "metadata": {},
   "outputs": [
    {
     "name": "stdout",
     "output_type": "stream",
     "text": [
      "PROGRAMA DE RENDIMENTOS\n",
      "\n",
      "1 - Criar novo registro\n",
      "2 - Consultar registros\n",
      "3 - Atualizar registro\n",
      "4 - Excluir registro\n",
      "5 - Sair\n",
      "CRIAR NOVO REGISTRO\n",
      "1 - Receita\n",
      "2 - Despesa\n",
      "3 - Investimento\n",
      "<__main__.Registro object at 0x7fdd6c3534c0>\n"
     ]
    }
   ],
   "source": [
    "programa_rendimento()\n",
    "\n"
   ]
  }
 ],
 "metadata": {
  "kernelspec": {
   "display_name": "Python 3",
   "language": "python",
   "name": "python3"
  },
  "language_info": {
   "codemirror_mode": {
    "name": "ipython",
    "version": 3
   },
   "file_extension": ".py",
   "mimetype": "text/x-python",
   "name": "python",
   "nbconvert_exporter": "python",
   "pygments_lexer": "ipython3",
   "version": "3.10.12"
  }
 },
 "nbformat": 4,
 "nbformat_minor": 2
}

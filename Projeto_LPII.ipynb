{
  "cells": [
    {
      "cell_type": "markdown",
      "metadata": {
        "id": "QcN62PrTNuNr"
      },
      "source": [
        "# 💸 Projeto Final | Sistema de Controle Financeiro"
      ]
    },
    {
      "cell_type": "markdown",
      "metadata": {
        "id": "h-tcXISlOEy_"
      },
      "source": [
        "Deverá ser desenvolvido um sistema para controle financeiro que receba as movimentações e as armazena em um arquivo csv ou json.\n",
        "\n",
        "O sistema deverá ser capaz de realizar as seguintes operações:\n",
        "\n",
        "- **Criar** novos registros e identificar a data que o registro foi feito, qual tipo de movimentação, valor.\n",
        "\n",
        "  - Os tipos podem ser:\n",
        "    - Receita: o valor deve ser tratado como numérico e armazenado normalmente.\n",
        "    - Despesas: o valor deve ser recebido como positivo, mas armazenado como negativo\n",
        "    - Investimento: deve ter uma informação a mais de 'Montante', em que será calculado quanto o dinheiro rendeu desde o dia que foi investido.\n",
        "    Para essa finalidade utilize a seguinte formula: $M = C * (1 + i)^t$ ([Saiba mais](https://matematicafinanceira.org/juros-compostos/)), considere tudo em dias.\n",
        "- **Ler** registros: Deverá ser possível consultar os registros por data, tipo ou valor.\n",
        "- **Atualizar** registros: No caso de atualização, pode-se atualizar o valor, o tipo e a data deverá ser a de atualização do registro.\n",
        "- **Deletar**: Deverá ser possível deletar o registro (caso necessário, considere o indice do elemento como ID)\n",
        "\n",
        "Outras funcionalidades:\n",
        "- Crie uma função ```atualiza_rendimento``` que atualize os valores de rendimento sempre que chamada.\n",
        "- Crie uma função ```exportar_relatorio```, que seja possível exportar um relatorio final em csv ou json.\n",
        "- Crie pelo menos uma função de agrupamento, que seja capaz de mostrar o total de valor baseado em alguma informação (mes, tipo...)\n",
        "- Crie valores separados para identificar a data (dia, mes, ano)\n",
        "\n",
        "---\n",
        "\n",
        "👩‍💻 **O que vai ser avaliado**:\n",
        "\n",
        "- Se as funções e operações cuprem o seu objetivo\n",
        "- Reprodutibilidade do código: vou executar!\n",
        "\n",
        "👉🏻 **Envio do projeto**:\n",
        "- Via LMS **individualmente.** <br>\n",
        "  Apesar de ser em grupo, cada um de vocês precisa submeter o projeto.\n",
        "- Formato: arquivo .py ou .ipynb.\n",
        "- 📅 29/01, até as 23h59.\n",
        "\n",
        "⚠️ **Atenção**:\n",
        "- Não utilize a biblioteca pandas para resolução desse exercício\n"
      ]
    },
    {
      "cell_type": "code",
      "source": [
        "'''from datetime import date\n",
        "modelo_dados = {\n",
        "    \"lancamentos\":[\n",
        "        {\n",
        "          \"tipo\":\"receita\", #receita,despesas,investimento\n",
        "          \"valor\": 0.0,\n",
        "          \"data_cadastro\": date.today().strftime('%d/%m/%Y'),\n",
        "        },\n",
        "        {\n",
        "          \"tipo\":\"investimento\", #receita,despesas,investimento\n",
        "          \"valor\": 0.0, #capital\n",
        "          \"data\": date.today(),\n",
        "          \"taxa\": 0.1,\n",
        "          \"data_investimento\": date.today(),\n",
        "          \"valor_atualizado\": 0.0,\n",
        "          \"data_atualizacao\": date.today(),\n",
        "        }\n",
        "      ]\n",
        "    }\n",
        "\n",
        "modelo_dados[\"lancamentos\"]'''"
      ],
      "metadata": {
        "id": "fCETiaohUTpv"
      },
      "execution_count": null,
      "outputs": []
    },
    {
      "cell_type": "code",
      "source": [
        "from datetime import date, datetime\n",
        "dados = {\n",
        "    \"lancamentos\":[\n",
        "      ]\n",
        "    }"
      ],
      "metadata": {
        "id": "GjnNBUe_7lEE"
      },
      "execution_count": null,
      "outputs": []
    },
    {
      "cell_type": "code",
      "source": [
        "dados"
      ],
      "metadata": {
        "id": "5c6hycJ6EC4w"
      },
      "execution_count": null,
      "outputs": []
    },
    {
      "cell_type": "code",
      "source": [
        "\n",
        ""
      ],
      "metadata": {
        "id": "SK20Qolrp0UJ"
      },
      "execution_count": null,
      "outputs": []
    },
    {
      "cell_type": "markdown",
      "source": [
        "# Exportar relatorio/dados"
      ],
      "metadata": {
        "id": "KUMMZoMGltVu"
      }
    },
    {
      "cell_type": "code",
      "source": [
        "#Crie uma função exportar_relatorio, que seja possível exportar um relatorio final em csv ou json.\n",
        "def exportar_relatorio():\n",
        "  nome_file = 'database.json'\n",
        "  f = open(nome_file, \"w\")\n",
        "  f.writelines(str(dados))\n",
        "  f.close()\n",
        "  print('\\n\\n')\n",
        "  print('****** Registros exportados. Nome do arquivo: ', nome_file, ' ******')\n",
        "  print('\\n\\n')"
      ],
      "metadata": {
        "id": "AZrCVxE_ls9s"
      },
      "execution_count": null,
      "outputs": []
    },
    {
      "cell_type": "markdown",
      "source": [
        "# Carregar Dados"
      ],
      "metadata": {
        "id": "zux2ISGllyKd"
      }
    },
    {
      "cell_type": "code",
      "source": [
        "def carregarDados(nomefile):\n",
        "  f = open(nomefile, \"r\")\n",
        "  arq = f.read()\n",
        "  f.close()\n",
        "  dados2 = eval(arq)\n",
        "  return dados2"
      ],
      "metadata": {
        "id": "xuZdJnjzlw8i"
      },
      "execution_count": null,
      "outputs": []
    },
    {
      "cell_type": "markdown",
      "source": [
        "#Inserir Registro\n"
      ],
      "metadata": {
        "id": "JpDOfkCTl2uP"
      }
    },
    {
      "cell_type": "code",
      "source": [
        "def inserirRegistro(tipo):\n",
        "  print(f'*** Cadastro de {tipo} ***')\n",
        "  if tipo != 'investimento':\n",
        "    valor = float(input(f'** Informe o valor a ser inserido (somente numeros, ex: 1.5): '))\n",
        "    data = input('** Informe a data de lançamento (dd/mm/yyyy): ') #date.today()\n",
        "    dict_novo = {\"tipo\": tipo, \"valor\": valor, \"data_cadastro\": data}\n",
        "    dados[\"lancamentos\"].append(dict_novo)\n",
        "  else:\n",
        "    capital = float(input('** Informe o Capital Inicial do investimento (somente numeros, ex: 1.5): '))\n",
        "    # solicito a taxa ao mes e divido por 30 porque quero o valor da taxa diariamente\n",
        "    # irei utilizar esse valor no calculo do rendimento por dia\n",
        "    taxa = float(input('** Informe a Taxa de juros ao mês do investimento  (somente numero, ex: 1.5): '))\n",
        "    taxa_diaria = taxa / 30\n",
        "    data_investimento = input('** Informe a data do investimento (dd/mm/yyyy): ')\n",
        "\n",
        "    data_cadastro =  datetime.now()\n",
        "    tempo_investimento = (data_cadastro - datetime.strptime(data_investimento, '%d/%m/%Y') ).days\n",
        "\n",
        "    if tempo_investimento <= 0:\n",
        "       tempo_investimento = 1\n",
        "\n",
        "    montante_atualizado = capital * (1 + taxa_diaria)**tempo_investimento\n",
        "\n",
        "    dict_novo = {\n",
        "          \"tipo\":\"investimento\", #receita,despesas,investimento\n",
        "          \"valor\": capital, #capital\n",
        "          \"data_cadastro\": data_cadastro.strftime(\"%d/%m/%Y\"),\n",
        "          \"taxa\": taxa,\n",
        "          \"data_investimento\": data_investimento,\n",
        "          \"valor_atualizado\": round(montante_atualizado,2),\n",
        "          \"data_atualizacao\": data_cadastro.strftime(\"%d/%m/%Y\"),\n",
        "        }\n",
        "    dados[\"lancamentos\"].append(dict_novo)\n",
        "  print(\"***** Registro Inserido com Sucesso! ****** \")\n",
        "  print(\"\\n\\n\")\n",
        "  return True"
      ],
      "metadata": {
        "id": "pRwhTZdrl4BW"
      },
      "execution_count": null,
      "outputs": []
    },
    {
      "cell_type": "markdown",
      "source": [
        "# Listar todos os registros"
      ],
      "metadata": {
        "id": "E62pBo0xl-i7"
      }
    },
    {
      "cell_type": "code",
      "source": [
        "def listar_todos_registros():\n",
        "  for i in range(len(dados[\"lancamentos\"])):\n",
        "    print(f'| Indice {i}')\n",
        "    for chave, valor in (dados[\"lancamentos\"][i].items()):\n",
        "      print(f'| {chave} -> {valor}')\n",
        "    print('-------------------------')\n",
        "\n",
        "  print(\"\\n\\n\")\n",
        "  return True"
      ],
      "metadata": {
        "id": "liml7MY6l-ID"
      },
      "execution_count": null,
      "outputs": []
    },
    {
      "cell_type": "markdown",
      "source": [
        "#Atualizar um registro"
      ],
      "metadata": {
        "id": "BYT0HaVel97T"
      }
    },
    {
      "cell_type": "code",
      "source": [
        "#Atualizar registros: No caso de atualização, pode-se atualizar o valor, o tipo e a data deverá ser a de atualização do registro.\n",
        "def atualizar_registro(index):\n",
        "  if index < len(dados['lancamentos']):\n",
        "    flag = 0\n",
        "    while flag == 0:\n",
        "      print(\"Qual dado deseja alterar?\")\n",
        "      if dados['lancamentos'][index]['tipo'] == 'investimento':\n",
        "        print(\" 1 - Tipo\")\n",
        "        print(\" 2 - Valor\")\n",
        "        print(\" 3 - Data de cadastro\")\n",
        "        print(\" 4 - Taxa\")\n",
        "        print(\" 5 - Data do Investimento\")\n",
        "\n",
        "        escolha = input(\": \")\n",
        "        if escolha in ['1','2','3','4','5']:\n",
        "          flag = 1\n",
        "          if escolha == '1': #atualização do tipo\n",
        "            valor_alterado = input(\"Informe o novo tipo: \")\n",
        "            if valor_alterado in ['receita','despesa']:\n",
        "              dados['lancamentos'][index]['tipo'] = valor_alterado\n",
        "              dados['lancamentos'][index].pop('taxa')\n",
        "              dados['lancamentos'][index].pop('data_investimento')\n",
        "              dados['lancamentos'][index].pop('valor_atualizado')\n",
        "              dados['lancamentos'][index].pop('data_atualizacao')\n",
        "\n",
        "          elif escolha == '2': #atualização do valor\n",
        "            valor_alterado = float(input(\"Informe o novo valor: \"))\n",
        "            dados['lancamentos'][index]['valor'] = valor_alterado\n",
        "\n",
        "          elif escolha == '3': # atualização da data de cadastro\n",
        "            valor_alterado = input(\"Informe a nova data de cadastro(dd/mm/yyyy): \")\n",
        "            dados['lancamentos'][index]['data_cadastro'] = valor_alterado\n",
        "\n",
        "          elif escolha == '4': # atualização da taxa\n",
        "            valor_alterado = float(input(\"Informe a nova Taxa de juros ao mês do investimento  (somente numero, ex: 1.5): \"))\n",
        "            dados['lancamentos'][index]['taxa'] = valor_alterado\n",
        "\n",
        "          elif escolha == '5': # atualização da data investimento\n",
        "            valor_alterado = input(\"Informe a nova data do investimento (dd/mm/yyyy): \")\n",
        "            dados['lancamentos'][index]['data_investimento'] = valor_alterado\n",
        "\n",
        "          if escolha in ['2','3','4','5'] :\n",
        "            dados['lancamentos'][index] = atualiza_rendimento_unico(dados['lancamentos'][index])\n",
        "\n",
        "        else:\n",
        "          flag = 0\n",
        "          print('--------> Opção Invalida! <--------')\n",
        "          print('\\n\\n')\n",
        "          continue\n",
        "\n",
        "      else:\n",
        "        print(\" 1 - Tipo\")\n",
        "        print(\" 2 - Valor\")\n",
        "        print(\" 3 - Data\")\n",
        "        escolha = input(\": \")\n",
        "        if escolha in ['1','2','3']:\n",
        "          flag = 1\n",
        "          if escolha == '1':\n",
        "            valor_alterado = input(\"Informe o novo tipo: \")\n",
        "            if valor_alterado == 'investimento' and valor_alterado != dados['lancamentos'][index]['tipo']:\n",
        "\n",
        "              taxa = float(input('** Informe a Taxa de juros do investimento (somente numero, ex: 1.5): '))\n",
        "              taxa_diaria = taxa / 30\n",
        "              data_investimento = input('** Informe a data do investimento (dd/MM/yyyy): ')\n",
        "              #data_cadastro =  date.today()\n",
        "              data_cadastro = datetime.strptime(dados['lancamento'][index][\"data_cadastro\"], '%d/%m/%Y')\n",
        "\n",
        "              #tempo_investimento = data_cadastro - data_investimento\n",
        "              if (data_cadastro - datetime.strptime(data_investimento, '%d/%m/%Y') ).days <= 0:\n",
        "                tempo_investimento = 1\n",
        "              else:\n",
        "                tempo_investimento = int( (data_cadastro - datetime.strptime(data_investimento, '%d/%m/%Y') ).days / 30 )\n",
        "\n",
        "              capital = float(dados['lancamentos'][index][\"valor\"])\n",
        "\n",
        "              montante_atualizado = capital * (1 + taxa_diaria)**tempo_investimento\n",
        "\n",
        "              dados['lancamentos'][index][\"data_cadastro\"] = data_cadastro\n",
        "              dados['lancamentos'][index][\"taxa\"] = taxa\n",
        "              dados['lancamentos'][index][\"data_investimento\"]= data_investimento\n",
        "              dados['lancamentos'][index][\"valor_atualizado\"] = round(montante_atualizado,2)\n",
        "              dados['lancamentos'][index][\"data_atualizacao\"] = data_cadastro.strftime(\"%d/%m/%Y\")\n",
        "\n",
        "            dados['lancamentos'][index]['tipo'] = valor_alterado\n",
        "\n",
        "          elif escolha == '2':\n",
        "            valor_alterado = float(input(\"Informe o novo valor: \"))\n",
        "            dados['lancamentos'][index]['valor'] = valor_alterado\n",
        "          elif escolha == '3':\n",
        "            valor_alterado = input(\"Informe o novo data (dd/mm/yyyy): \")\n",
        "            dados['lancamentos'][index]['data'] = datetime.strptime(valor_alterado, '%d/%m/%Y')\n",
        "\n",
        "        else:\n",
        "          flag = 0\n",
        "          print('--------> Opção Invalida! <--------')\n",
        "          print('\\n\\n')\n",
        "          continue\n",
        "\n",
        "  print(\"---------> Registro atualizado com sucesso! <---------\")\n",
        "  print(\"\\n\\n\")"
      ],
      "metadata": {
        "id": "KOHucuBbmTPQ"
      },
      "execution_count": null,
      "outputs": []
    },
    {
      "cell_type": "markdown",
      "source": [
        "#Ler Registro / Lista um Registro"
      ],
      "metadata": {
        "id": "hurnuFv7mZiM"
      }
    },
    {
      "cell_type": "code",
      "source": [
        "def ler_registro(filtro, valor_filtro):\n",
        "  #Ler registros: Deverá ser possível consultar os registros por data, tipo ou valor.\n",
        "  lista = []\n",
        "  for i in range(len(dados[\"lancamentos\"])):\n",
        "    if dados[\"lancamentos\"][i][filtro] == valor_filtro:\n",
        "      dict_out = {'indice': i}\n",
        "      for chave, valor in (dados[\"lancamentos\"][i].items()):\n",
        "        dict_out[chave] = valor\n",
        "      lista.append(dict_out)\n",
        "        #print(f'| {chave} -> {valor}')\n",
        "\n",
        "  for i in lista:\n",
        "    print('\\n--------------------\\n')\n",
        "    for chave, valor in (i.items()):\n",
        "      print(f'| {chave} -> {valor}')\n",
        "\n",
        "  print('-------------------------')\n",
        "  print(\"\\n\\n\")\n"
      ],
      "metadata": {
        "id": "fTt8siGZEOVq"
      },
      "execution_count": null,
      "outputs": []
    },
    {
      "cell_type": "code",
      "source": [
        "#Crie pelo menos uma função de agrupamento, que seja capaz de mostrar o total de valor baseado em alguma informação (mes, tipo...)\n",
        "\n",
        "#Crie valores separados para identificar a data (dia, mes, ano)"
      ],
      "metadata": {
        "id": "S6srs1pvhBlp"
      },
      "execution_count": null,
      "outputs": []
    },
    {
      "cell_type": "markdown",
      "source": [
        "#Deletar um registro"
      ],
      "metadata": {
        "id": "TqhVmTC9mfrx"
      }
    },
    {
      "cell_type": "code",
      "source": [
        "#Deletar: Deverá ser possível deletar o registro (caso necessário, considere o indice do elemento como ID)\n",
        "def deletar_registro(index):\n",
        "  if index < len(dados['lancamentos']):\n",
        "    dados['lancamentos'].pop(index)\n",
        "    print(\"---------> Registro deletado com sucesso! <---------\")\n",
        "  else:\n",
        "    print(\"---------> Registro não Encontrado! <---------\")\n",
        "  print(\"\\n\\n\")"
      ],
      "metadata": {
        "id": "gGkmmmJTET4_"
      },
      "execution_count": null,
      "outputs": []
    },
    {
      "cell_type": "markdown",
      "source": [
        "#Atualizar Rendimento Unico"
      ],
      "metadata": {
        "id": "wiO2THJymmbO"
      }
    },
    {
      "cell_type": "code",
      "source": [
        "#função que atualiza um dicionario\n",
        "def atualiza_rendimento_unico(dict_selecionado : dict):\n",
        "  if dict_selecionado['tipo'] == 'investimento':\n",
        "    taxa = float(dict_selecionado[\"taxa\"])\n",
        "    taxa_diaria = taxa / 30\n",
        "    data_investimento = datetime.strptime(dict_selecionado[\"data_investimento\"], '%d/%m/%Y')\n",
        "    data_agora =  datetime.now()\n",
        "    tempo_investimento = (data_agora - data_investimento ).days\n",
        "    if tempo_investimento <= 0:\n",
        "      tempo_investimento = 1\n",
        "\n",
        "    capital = float(dict_selecionado[\"valor\"])\n",
        "\n",
        "    montante_atualizado = capital * (1 + taxa_diaria)**tempo_investimento\n",
        "\n",
        "    dict_selecionado[\"valor_atualizado\"] = round(montante_atualizado, 2)\n",
        "    dict_selecionado[\"data_atualizacao\"] = data_agora.strftime(\"%d/%m/%Y\")\n",
        "    return dict_selecionado"
      ],
      "metadata": {
        "id": "Ax58_p8aEUAL"
      },
      "execution_count": null,
      "outputs": []
    },
    {
      "cell_type": "markdown",
      "source": [
        "#Atualizar rendimento de todos os investimentos"
      ],
      "metadata": {
        "id": "lBA1JsS9mrNQ"
      }
    },
    {
      "cell_type": "code",
      "source": [
        "\n",
        "#Crie uma função atualiza_rendimento que atualize os valores de rendimento sempre que chamada.\n",
        "def atualiza_rendimento(index=None, out=True):\n",
        "  #o parametro index é pra ser utilizando quando quero usar essa função pra atualizar apenas um registro\n",
        "  # Então quando o index é None é porque iremos atualizar todos os registros\n",
        "  # Quando o index tem um valor ele atualiza um registro\n",
        "  if index == None:\n",
        "    for x in dados['lancamentos']:\n",
        "      if x['tipo'] == 'investimento':\n",
        "        x = atualiza_rendimento_unico(x)\n",
        "    print(\"---------> Registros atualizados com sucesso! <---------\")\n",
        "  else:\n",
        "    if dados['lancamentos'][index]['tipo'] == 'investimento':\n",
        "      dados['lancamentos'][index] = atualiza_rendimento_unico(dados['lancamentos'][index])\n",
        "\n",
        "\n",
        "      if out:\n",
        "        print(\"---------> Registro atualizado com sucesso! <---------\")\n",
        "  print(\"\\n\\n\")\n"
      ],
      "metadata": {
        "id": "5gMuotcuYz6m"
      },
      "execution_count": null,
      "outputs": []
    },
    {
      "cell_type": "code",
      "source": [],
      "metadata": {
        "id": "jWslIvn3csym"
      },
      "execution_count": null,
      "outputs": []
    },
    {
      "cell_type": "code",
      "source": [
        "\n",
        "\n"
      ],
      "metadata": {
        "id": "C20VdrdjdcGF"
      },
      "execution_count": null,
      "outputs": []
    },
    {
      "cell_type": "code",
      "source": [],
      "metadata": {
        "id": "TCk3-3LmEC0-"
      },
      "execution_count": null,
      "outputs": []
    },
    {
      "cell_type": "code",
      "source": [],
      "metadata": {
        "id": "h-CovdqtECFP"
      },
      "execution_count": null,
      "outputs": []
    },
    {
      "cell_type": "code",
      "source": [],
      "metadata": {
        "id": "TrQlz2J27k1-"
      },
      "execution_count": null,
      "outputs": []
    },
    {
      "cell_type": "markdown",
      "source": [
        "#Main"
      ],
      "metadata": {
        "id": "8B_BFU6HqcOU"
      }
    },
    {
      "cell_type": "code",
      "source": [
        "opcao  = '1'\n",
        "while opcao != '0':\n",
        "  print('|***********************|\\n|   Escolha uma opção   |')\n",
        "  print(' -> 1 - Inserir uma Receita.')\n",
        "  print(' -> 2 - Inserir uma Despesa.')\n",
        "  print(' -> 3 - Inserir um Investimento.')\n",
        "  print(' -> 4 - Atualizar um registro.')\n",
        "  print(' -> 5 - Deletar um registro.')\n",
        "  print(' -> 6 - Listar registros por data, tipo ou valor.')\n",
        "  print(' -> 7 - Listar Todos os registros.')\n",
        "  print(' -> 8 - Exportar Dados')\n",
        "  print(' -> 9 - Deseja carregar dados armazenados?')\n",
        "  print(' -> 0 Finalizar.')\n",
        "  print('|***********************|')\n",
        "\n",
        "  opcao = input(\"Escolha uma opção: \")\n",
        "  if opcao == '1': #1 - Inserir uma Receita.\n",
        "    inserirRegistro('receita')\n",
        "\n",
        "  elif opcao == '2': #2 - Inserir uma Despesa.\n",
        "    inserirRegistro('despesa')\n",
        "\n",
        "  elif opcao == '3': #3 - Inserir um Investimento.\n",
        "    inserirRegistro('investimento')\n",
        "\n",
        "  elif opcao == '4': #4 - Atualizar um registro.\n",
        "    print(\" -> Informe o indice do registro que deseja atualizar: \")\n",
        "    listar_todos_registros()\n",
        "    indice = int(input(\"Indice: \"))\n",
        "    atualizar_registro(indice)\n",
        "\n",
        "  elif opcao == '5': #5 - Deletar um registro.\n",
        "    print(\" -> Informe o indice do registro que deseja deletar: \")\n",
        "    listar_todos_registros()\n",
        "    indice = int(input(\"Indice: \"))\n",
        "    deletar_registro(indice)\n",
        "\n",
        "  elif opcao == '6': #6 - Listar registros por data, tipo ou valor.\n",
        "    print(' -> Deseja pequisar os registros por: ')\n",
        "    print(' 1 -  Data')\n",
        "    print(' 2 -  Tipo')\n",
        "    print(' 3 -  Valor')\n",
        "    filtro = input(\"Escolha um item: \")\n",
        "    if filtro == '1':\n",
        "      filtro = 'data_cadastro'\n",
        "      valor = input(\"Informe a data que deseja pesquisar (dd/mm/yyyy): \")\n",
        "    elif filtro == '2':\n",
        "      filtro = 'tipo'\n",
        "      valor = input(\"Informe o tipo do lançamento que deseja pesquisar: \")\n",
        "    elif filtro == '3':\n",
        "      filtro = 'valor'\n",
        "      valor = float(input(\"Informe o valor que deseja pesquisar: \")  )\n",
        "    else:\n",
        "      print('--------> Opção Invalida! <--------')\n",
        "\n",
        "      continue\n",
        "    ler_registro(filtro, valor)\n",
        "\n",
        "  elif opcao == '7': #7 - Listar Todos os registros.\n",
        "    listar_todos_registros()\n",
        "  elif opcao == '8': #8 - Exportar Dados\n",
        "    exportar_relatorio()\n",
        "  elif opcao == '9': #9 -Deseja carregar dados armazenados?\n",
        "    dados = carregarDados(\"database.json\")\n",
        "\n",
        "  elif opcao == '0':\n",
        "    print('--------> Encerrando.... <--------')\n",
        "  else:\n",
        "    print('--------> Opção Invalida! <--------')"
      ],
      "metadata": {
        "id": "qLEi0ROTWb3M"
      },
      "execution_count": null,
      "outputs": []
    },
    {
      "cell_type": "code",
      "source": [
        "dados"
      ],
      "metadata": {
        "id": "KbblFWdeJ_JY"
      },
      "execution_count": null,
      "outputs": []
    },
    {
      "cell_type": "code",
      "source": [
        "atualiza_rendimento(index=None, out=True)"
      ],
      "metadata": {
        "id": "8ND0m8SgDxek"
      },
      "execution_count": null,
      "outputs": []
    },
    {
      "cell_type": "code",
      "source": [],
      "metadata": {
        "id": "x4CpOdwjxcsR"
      },
      "execution_count": null,
      "outputs": []
    }
  ],
  "metadata": {
    "colab": {
      "private_outputs": true,
      "provenance": []
    },
    "kernelspec": {
      "display_name": "Python 3",
      "language": "python",
      "name": "python3"
    },
    "language_info": {
      "codemirror_mode": {
        "name": "ipython",
        "version": 3
      },
      "file_extension": ".py",
      "mimetype": "text/x-python",
      "name": "python",
      "nbconvert_exporter": "python",
      "pygments_lexer": "ipython3",
      "version": "3.6.6"
    }
  },
  "nbformat": 4,
  "nbformat_minor": 0
}
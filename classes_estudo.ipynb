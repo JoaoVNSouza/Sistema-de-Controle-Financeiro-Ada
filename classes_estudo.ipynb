{
  "nbformat": 4,
  "nbformat_minor": 0,
  "metadata": {
    "colab": {
      "provenance": []
    },
    "kernelspec": {
      "name": "python3",
      "display_name": "Python 3"
    },
    "language_info": {
      "name": "python"
    }
  },
  "cells": [
    {
      "cell_type": "code",
      "execution_count": 1,
      "metadata": {
        "id": "kJ1_HHvejV5Q"
      },
      "outputs": [],
      "source": [
        "class Externa:\n",
        "\n",
        "  def __init__(self):\n",
        "    print('Instância da classe Externa criada')\n",
        "    self.interna = self.Interna()\n",
        "\n",
        "  def mostrar(self):\n",
        "    print('Método mostrar da classe Externa')\n",
        "\n",
        "  class Interna:\n",
        "\n",
        "    def __init__(self):\n",
        "      print('Instância da classe Interna criada')\n",
        "\n",
        "    def mostrar(self):\n",
        "      print('Método mostrar da classe Interna')\n",
        "\n",
        "    def consultar(self):\n",
        "      print('Método consultar da classe Interna')"
      ]
    },
    {
      "cell_type": "code",
      "source": [
        "e = Externa()\n",
        "\n",
        "type(e)"
      ],
      "metadata": {
        "colab": {
          "base_uri": "https://localhost:8080/"
        },
        "id": "p5SDilIVkCyN",
        "outputId": "480873ac-0f6f-4da3-ef20-93d08967de41"
      },
      "execution_count": 2,
      "outputs": [
        {
          "output_type": "stream",
          "name": "stdout",
          "text": [
            "Instância da classe Externa criada\n",
            "Instância da classe Interna criada\n"
          ]
        },
        {
          "output_type": "execute_result",
          "data": {
            "text/plain": [
              "__main__.Externa"
            ]
          },
          "metadata": {},
          "execution_count": 2
        }
      ]
    },
    {
      "cell_type": "code",
      "source": [
        "exemplo2 = Externa()\n",
        "\n",
        "print(type(exemplo2))"
      ],
      "metadata": {
        "colab": {
          "base_uri": "https://localhost:8080/"
        },
        "id": "enrN5FMNkkBv",
        "outputId": "9bba67cd-ff81-42dc-b53f-58ffd251718d"
      },
      "execution_count": 17,
      "outputs": [
        {
          "output_type": "stream",
          "name": "stdout",
          "text": [
            "Instância da classe Externa criada\n",
            "Instância da classe Interna criada\n",
            "<class '__main__.Externa'>\n"
          ]
        }
      ]
    },
    {
      "cell_type": "code",
      "source": [
        "e.mostrar()"
      ],
      "metadata": {
        "colab": {
          "base_uri": "https://localhost:8080/"
        },
        "id": "PA2qxFGOlI2p",
        "outputId": "8694b4dc-b642-45d0-9489-b8f339e0d7f5"
      },
      "execution_count": 19,
      "outputs": [
        {
          "output_type": "stream",
          "name": "stdout",
          "text": [
            "Método mostrar da classe Externa\n"
          ]
        }
      ]
    },
    {
      "cell_type": "code",
      "source": [
        "e.interna.mostrar()"
      ],
      "metadata": {
        "colab": {
          "base_uri": "https://localhost:8080/"
        },
        "id": "FOeBls6hlLB-",
        "outputId": "00ae29b6-9467-4af2-833c-cfad45561244"
      },
      "execution_count": 20,
      "outputs": [
        {
          "output_type": "stream",
          "name": "stdout",
          "text": [
            "Método mostrar da classe Interna\n"
          ]
        }
      ]
    },
    {
      "cell_type": "code",
      "source": [
        "e.interna.consultar()"
      ],
      "metadata": {
        "colab": {
          "base_uri": "https://localhost:8080/"
        },
        "id": "hiH1LqmDmSZ6",
        "outputId": "2fd16cec-6957-4076-b4ea-ad667663a350"
      },
      "execution_count": 21,
      "outputs": [
        {
          "output_type": "stream",
          "name": "stdout",
          "text": [
            "Método consultar da classe Interna\n"
          ]
        }
      ]
    },
    {
      "cell_type": "code",
      "source": [
        "from datetime import datetime, timedelta\n",
        "\n",
        "class Banco:\n",
        "    def __init__(self, id, data, receita, despesa):\n",
        "        self.id = id\n",
        "        self.data = data\n",
        "        self.receita = receita\n",
        "        self.despesa = despesa\n",
        "\n",
        "    def sobrescrever_data(self, data):\n",
        "        self.data = data\n",
        "\n",
        "    def sobrescrever_receita(self, receita):\n",
        "      self.receita = receita\n",
        "      self.data = datetime.now().date()\n",
        "\n",
        "\n",
        "\n",
        "dados1 = Banco(id=0,data='01/02/2023', receita=100, despesa=0)\n",
        "\n",
        "\n",
        "\n",
        "print(f\"Dados 1: ID={dados1.id}, data={dados1.data}, receita={dados1.receita}, despesa={dados1.despesa}\")\n"
      ],
      "metadata": {
        "colab": {
          "base_uri": "https://localhost:8080/"
        },
        "id": "YYHs7aLUmUpX",
        "outputId": "ee6ac69b-8d8a-48d1-d96c-cde4eb28d76b"
      },
      "execution_count": 16,
      "outputs": [
        {
          "output_type": "stream",
          "name": "stdout",
          "text": [
            "Dados 1: ID=0, data=01/02/2023, receita=100, despesa=0\n"
          ]
        }
      ]
    },
    {
      "cell_type": "code",
      "source": [
        "type(dados1)\n"
      ],
      "metadata": {
        "colab": {
          "base_uri": "https://localhost:8080/"
        },
        "id": "MorVyU3mnvSz",
        "outputId": "7b924262-7e1b-4735-837a-3c8a807f4fde"
      },
      "execution_count": 17,
      "outputs": [
        {
          "output_type": "execute_result",
          "data": {
            "text/plain": [
              "__main__.Banco"
            ]
          },
          "metadata": {},
          "execution_count": 17
        }
      ]
    },
    {
      "cell_type": "code",
      "source": [
        "dados1.sobrescrever_data(data='02/02/2022')"
      ],
      "metadata": {
        "id": "tSJzEMJlpRQm"
      },
      "execution_count": 18,
      "outputs": []
    },
    {
      "cell_type": "code",
      "source": [
        "print(f\"Dados 1: ID={dados1.id}, data={dados1.data}, receita={dados1.receita}, despesa={dados1.despesa}\")"
      ],
      "metadata": {
        "colab": {
          "base_uri": "https://localhost:8080/"
        },
        "id": "8qEPTrCWvAL_",
        "outputId": "d06b07d2-cc39-4182-b9ce-9328b81ba29a"
      },
      "execution_count": 19,
      "outputs": [
        {
          "output_type": "stream",
          "name": "stdout",
          "text": [
            "Dados 1: ID=0, data=02/02/2022, receita=100, despesa=0\n"
          ]
        }
      ]
    },
    {
      "cell_type": "code",
      "source": [
        "b = Banco(id=0,data=0,receita=0,despesa=0)"
      ],
      "metadata": {
        "id": "tIscvFuZwU3_"
      },
      "execution_count": 20,
      "outputs": []
    },
    {
      "cell_type": "code",
      "source": [
        "print(b.id)"
      ],
      "metadata": {
        "colab": {
          "base_uri": "https://localhost:8080/"
        },
        "id": "3x4VMAb6xON_",
        "outputId": "044d3b02-0cca-4b47-e1f1-81441487770f"
      },
      "execution_count": 21,
      "outputs": [
        {
          "output_type": "stream",
          "name": "stdout",
          "text": [
            "0\n"
          ]
        }
      ]
    },
    {
      "cell_type": "code",
      "source": [
        "b = []\n",
        "for i in range(10):\n",
        "   b.append(Banco(id=i,data=i,receita=i+2,despesa=i))"
      ],
      "metadata": {
        "id": "ex4DeXqhxsM3"
      },
      "execution_count": 22,
      "outputs": []
    },
    {
      "cell_type": "code",
      "source": [
        "b[9].receita"
      ],
      "metadata": {
        "colab": {
          "base_uri": "https://localhost:8080/"
        },
        "id": "u-Lg4FO5yxS4",
        "outputId": "46d7f05a-898d-407f-b1dd-235086a950bc"
      },
      "execution_count": 23,
      "outputs": [
        {
          "output_type": "execute_result",
          "data": {
            "text/plain": [
              "11"
            ]
          },
          "metadata": {},
          "execution_count": 23
        }
      ]
    },
    {
      "cell_type": "code",
      "source": [
        "print(b)"
      ],
      "metadata": {
        "colab": {
          "base_uri": "https://localhost:8080/"
        },
        "id": "v5WAdANwzD_H",
        "outputId": "8139d145-1a79-471c-b36a-5233dc000431"
      },
      "execution_count": 24,
      "outputs": [
        {
          "output_type": "stream",
          "name": "stdout",
          "text": [
            "[<__main__.Banco object at 0x7fc598aed180>, <__main__.Banco object at 0x7fc598aee6e0>, <__main__.Banco object at 0x7fc598aeffa0>, <__main__.Banco object at 0x7fc598aeff70>, <__main__.Banco object at 0x7fc598aeec50>, <__main__.Banco object at 0x7fc598aef2e0>, <__main__.Banco object at 0x7fc598aef6a0>, <__main__.Banco object at 0x7fc598aeee60>, <__main__.Banco object at 0x7fc598aecd60>, <__main__.Banco object at 0x7fc598aedfc0>]\n"
          ]
        }
      ]
    },
    {
      "cell_type": "code",
      "source": [
        "\n",
        "for i in range(10):\n",
        "  print(f\"Dados {i}: ID={b[i].id}, data={b[i].data}, receita={b[i].receita}, despesa={b[i].despesa}\")"
      ],
      "metadata": {
        "colab": {
          "base_uri": "https://localhost:8080/"
        },
        "id": "jX92SryuzRKA",
        "outputId": "004eff41-2cef-4dcc-a310-8faf741e6fd7"
      },
      "execution_count": 29,
      "outputs": [
        {
          "output_type": "stream",
          "name": "stdout",
          "text": [
            "Dados 0: ID=0, data=0, receita=2, despesa=0\n",
            "Dados 1: ID=1, data=1, receita=3, despesa=1\n",
            "Dados 2: ID=2, data=2024-01-25, receita=666, despesa=2\n",
            "Dados 3: ID=3, data=3, receita=5, despesa=3\n",
            "Dados 4: ID=4, data=4, receita=6, despesa=4\n",
            "Dados 5: ID=5, data=5, receita=7, despesa=5\n",
            "Dados 6: ID=6, data=6, receita=8, despesa=6\n",
            "Dados 7: ID=7, data=7, receita=9, despesa=7\n",
            "Dados 8: ID=8, data=8, receita=10, despesa=8\n",
            "Dados 9: ID=9, data=9, receita=11, despesa=9\n"
          ]
        }
      ]
    },
    {
      "cell_type": "code",
      "source": [
        "b[2].sobrescrever_data('cu')"
      ],
      "metadata": {
        "id": "ScwvnrAl0iDo"
      },
      "execution_count": 26,
      "outputs": []
    },
    {
      "cell_type": "code",
      "source": [
        "b[2].sobrescrever_receita(666)\n",
        "\n"
      ],
      "metadata": {
        "id": "Jyi7RVTfacmQ"
      },
      "execution_count": 28,
      "outputs": []
    }
  ]
}
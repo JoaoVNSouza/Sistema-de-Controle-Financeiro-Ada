{
 "cells": [
  {
   "cell_type": "code",
   "execution_count": 224,
   "metadata": {},
   "outputs": [],
   "source": [
    "import csv\n",
    "import json\n",
    "from datetime import datetime, timedelta\n",
    "import os\n",
    "\n",
    "class SistemaFinanceiro:\n",
    "    def __init__(self):\n",
    "        self.armazenamento = {}\n",
    "        self.saldo = []\n",
    "        self.investimento = []\n",
    "        print('Classe de Sistema Financeiro Criada!')\n",
    "    \n",
    "    def addClasse(self, transacao):\n",
    "        if transacao == 0:\n",
    "            self.armazenamento['Saldo'] = self.saldo\n",
    "        elif transacao == 1:\n",
    "            self.armazenamento['Investimento'] = self.investimento\n",
    "        else:\n",
    "            print(f'A operação {transacao} é inválida')\n",
    "            pass\n",
    "\n",
    "    def addDados(self, transacao, tipo, receita, data):\n",
    "        if transacao == 0:\n",
    "            self.saldo.append([tipo,receita,data])\n",
    "        elif transacao == 1:\n",
    "            self.investimento.append([tipo,receita,data])\n",
    "\n",
    "\n",
    "\n",
    "    "
   ]
  },
  {
   "cell_type": "code",
   "execution_count": 225,
   "metadata": {},
   "outputs": [
    {
     "name": "stdout",
     "output_type": "stream",
     "text": [
      "Classe de Sistema Financeiro Criada!\n"
     ]
    }
   ],
   "source": [
    "teste = SistemaFinanceiro()"
   ]
  },
  {
   "cell_type": "code",
   "execution_count": 229,
   "metadata": {},
   "outputs": [],
   "source": [
    "teste.addClasse(0)\n",
    "teste.addClasse(1)"
   ]
  },
  {
   "cell_type": "code",
   "execution_count": 226,
   "metadata": {},
   "outputs": [],
   "source": [
    "teste.addDados(0, 'investimento', 200, '01-02-2023')"
   ]
  },
  {
   "cell_type": "code",
   "execution_count": 227,
   "metadata": {},
   "outputs": [
    {
     "data": {
      "text/plain": [
       "[['investimento', 200, '01-02-2023']]"
      ]
     },
     "execution_count": 227,
     "metadata": {},
     "output_type": "execute_result"
    }
   ],
   "source": [
    "teste.saldo"
   ]
  },
  {
   "cell_type": "code",
   "execution_count": 230,
   "metadata": {},
   "outputs": [
    {
     "data": {
      "text/plain": [
       "{'Saldo': [['investimento', 200, '01-02-2023']], 'Investimento': []}"
      ]
     },
     "execution_count": 230,
     "metadata": {},
     "output_type": "execute_result"
    }
   ],
   "source": [
    "teste.armazenamento"
   ]
  },
  {
   "cell_type": "code",
   "execution_count": null,
   "metadata": {},
   "outputs": [],
   "source": []
  }
 ],
 "metadata": {
  "kernelspec": {
   "display_name": "Python 3",
   "language": "python",
   "name": "python3"
  },
  "language_info": {
   "codemirror_mode": {
    "name": "ipython",
    "version": 3
   },
   "file_extension": ".py",
   "mimetype": "text/x-python",
   "name": "python",
   "nbconvert_exporter": "python",
   "pygments_lexer": "ipython3",
   "version": "3.12.1"
  }
 },
 "nbformat": 4,
 "nbformat_minor": 2
}

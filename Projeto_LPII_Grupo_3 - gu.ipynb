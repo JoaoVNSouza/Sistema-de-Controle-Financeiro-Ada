{
  "cells": [
    {
      "cell_type": "markdown",
      "metadata": {
        "id": "QcN62PrTNuNr"
      },
      "source": [
        "# 💸 Projeto Final | Sistema de Controle Financeiro"
      ]
    },
    {
      "cell_type": "markdown",
      "metadata": {
        "id": "h-tcXISlOEy_"
      },
      "source": [
        "Deverá ser desenvolvido um sistema para controle financeiro que receba as movimentações e as armazena em um arquivo csv ou json.\n",
        "\n",
        "O sistema deverá ser capaz de realizar as seguintes operações:\n",
        "\n",
        "- **Criar** novos registros e identificar a data que o registro foi feito, qual tipo de movimentação, valor.\n",
        "\n",
        "  - Os tipos podem ser:\n",
        "    - Receita: o valor deve ser tratado como numérico e armazenado normalmente.\n",
        "    - Despesas: o valor deve ser recebido como positivo, mas armazenado como negativo\n",
        "    - Investimento: deve ter uma informação a mais de 'Montante', em que será calculado quanto o dinheiro rendeu desde o dia que foi investido.\n",
        "    Para essa finalidade utilize a seguinte formula: $M = C * (1 + i)^t$ ([Saiba mais](https://matematicafinanceira.org/juros-compostos/)), considere tudo em dias.\n",
        "- **Ler** registros: Deverá ser possível consultar os registros por data, tipo ou valor.\n",
        "- **Atualizar** registros: No caso de atualização, pode-se atualizar o valor, o tipo e a data deverá ser a de atualização do registro.\n",
        "- **Deletar**: Deverá ser possível deletar o registro (caso necessário, considere o indice do elemento como ID)\n",
        "\n",
        "Outras funcionalidades:\n",
        "- Crie uma função ```atualiza_rendimento``` que atualize os valores de rendimento sempre que chamada.\n",
        "- Crie uma função ```exportar_relatorio```, que seja possível exportar um relatorio final em csv ou json.\n",
        "- Crie pelo menos uma função de agrupamento, que seja capaz de mostrar o total de valor baseado em alguma informação (mes, tipo...)\n",
        "- Crie valores separados para identificar a data (dia, mes, ano)\n",
        "\n",
        "---\n",
        "\n",
        "👩‍💻 **O que vai ser avaliado**:\n",
        "\n",
        "- Se as funções e operações cuprem o seu objetivo\n",
        "- Reprodutibilidade do código: vou executar!\n",
        "\n",
        "👉🏻 **Envio do projeto**:\n",
        "- Via LMS **individualmente.** <br>\n",
        "  Apesar de ser em grupo, cada um de vocês precisa submeter o projeto.\n",
        "- Formato: arquivo .py ou .ipynb.\n",
        "- 📅 29/01, até as 23h59.\n",
        "\n",
        "⚠️ **Atenção**:\n",
        "- Não utilize a biblioteca pandas para resolução desse exercício\n"
      ]
    },
    {
      "cell_type": "code",
      "execution_count": null,
      "metadata": {
        "id": "leqPgFh2vFT1"
      },
      "outputs": [],
      "source": [
        "from datetime import datetime, timedelta\n",
        "data_atual = datetime.now().strftime(\"%d/%m/%Y\")\n",
        "\n",
        "def calculo_montante(capital,tempo,taxa_de_investimento):\n",
        "    M = capital*(1+taxa_de_investimento)**tempo\n",
        "    return M\n",
        "\n",
        "dados = {'ID': [], 'data': [], 'receita': [], 'despesa': [], 'investimento': []}\n",
        "\n",
        "def atualizar_registro(receita=0, despesa=0, investimento=False, data=data_atual):\n",
        "  dados['data'] = dados['data'] + [data]\n",
        "  dados['ID'] = dados['ID'] + [len(dados['data'])]\n",
        "  dados['receita'] = dados['receita'] + [float(receita)]\n",
        "  dados['despesa'] = dados['despesa'] + [(-1)*float(despesa)]\n",
        "  \n",
        "  if investimento == True:\n",
        "    C = float(input('Capital:'))\n",
        "    tempo_inicio = datetime.strptime(input('Data'), \"%d/%m/%Y\")\n",
        "    tempo_fim = datetime.now()\n",
        "    delta_t = tempo_fim - tempo_inicio\n",
        "    delta_t = delta_t.days\n",
        "    taxa = 0.1\n",
        "    if len(dados['data']) == 1:\n",
        "       dados['investimento'] = [calculo_montante(C,delta_t,taxa)]\n",
        "    else:\n",
        "       dados['investimento'] = dados['investimento'] + [calculo_montante(C,delta_t,taxa)]\n",
        "  else:\n",
        "     dados['investimento'] = dados['investimento'] + [investimento]\n",
        "       \n",
        "\n",
        "\n",
        "  return dados\n",
        "\n",
        "\n"
      ]
    },
    {
      "cell_type": "markdown",
      "metadata": {},
      "source": [
        "Testes da função atualizar_registo ABAIXO!\n"
      ]
    },
    {
      "cell_type": "code",
      "execution_count": null,
      "metadata": {
        "id": "QSYfGqfZwvRh"
      },
      "outputs": [],
      "source": [
        "atualizar_registro(500,200,investimento=True)"
      ]
    },
    {
      "cell_type": "code",
      "execution_count": null,
      "metadata": {},
      "outputs": [],
      "source": [
        "atualizar_registro(501,201)\n"
      ]
    },
    {
      "cell_type": "markdown",
      "metadata": {},
      "source": [
        "Criação dos inputs para o usuário"
      ]
    },
    {
      "cell_type": "code",
      "execution_count": null,
      "metadata": {},
      "outputs": [],
      "source": [
        "operacao = input('Entre com a operação a ser realizada: Incluir Dados ou Alterar Dados').lower()\n",
        "validacao = True\n",
        "\n",
        "while validacao:\n",
        "    if operacao == 'incluir dados' or operacao == 'alterar dados':\n",
        "        validacao = False\n",
        "    else:\n",
        "        print('Operação INVÁLIDA! Entre com a operação válida e digite: incluir dados ou alterar dados')\n",
        "        operacao = input('Entre com a operação a ser realizada: Incluir Dados ou Alterar Dados').lower()\n",
        "\n",
        "\n",
        "# Incluir dados na função criar_registro\n",
        "        \n",
        "if operacao == 'incluir dados':\n",
        "\n",
        "    receita_incluir = float(input('Entre com a Receita:'))\n",
        "    despesa_incluir = float(input('Entre com a Despesa:'))\n",
        "    taxa_de_investimento = float(input('Entre com a taxa de investimento entre 0 a 100:'))*0.01\n",
        "    data_operacao = input('A data a ser atualizada é a atual ou passada?').lower()\n",
        "\n",
        "    if data_operacao == 'passada':\n",
        "        data_operacao = input('Insira a data desejada no formato: YYYY-MM-DD')\n",
        "    else:\n",
        "        data_operacao = data_atual\n",
        "    print(criar_registro(receita_incluir, despesa_incluir, data_operacao, taxa_de_investimento))\n",
        "    \n",
        "\n",
        "\n"
      ]
    },
    {
      "cell_type": "code",
      "execution_count": null,
      "metadata": {},
      "outputs": [],
      "source": [
        "  # if len(dados['data']) == 1:\n",
        "  #   dados['investimento'] = dados['investimento'] + [float(receita) - float(despesa)]\n",
        "  # else:\n",
        "  #   C = dados['investimento'][-1]\n",
        "  #   t = int(datetime.strptime(dados['data'][-1], \"%d/%m/%Y\").day) - int(datetime.strptime(dados['data'][-2], \"%d/%m/%Y\").day)\n",
        "  #   M = C * (1 + taxa_investimento)**t + dados['receita'][-1] + dados['despesa'][-1]\n",
        "  #   if t < 0:\n",
        "  #     print(t)\n",
        "  #   dados['investimento'] = dados['investimento'] + [M]"
      ]
    }
  ],
  "metadata": {
    "colab": {
      "private_outputs": true,
      "provenance": []
    },
    "kernelspec": {
      "display_name": "Python 3",
      "language": "python",
      "name": "python3"
    },
    "language_info": {
      "codemirror_mode": {
        "name": "ipython",
        "version": 3
      },
      "file_extension": ".py",
      "mimetype": "text/x-python",
      "name": "python",
      "nbconvert_exporter": "python",
      "pygments_lexer": "ipython3",
      "version": "3.12.1"
    }
  },
  "nbformat": 4,
  "nbformat_minor": 0
}

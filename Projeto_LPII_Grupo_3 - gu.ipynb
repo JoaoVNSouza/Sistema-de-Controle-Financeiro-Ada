{
  "cells": [
    {
      "cell_type": "markdown",
      "metadata": {
        "id": "QcN62PrTNuNr"
      },
      "source": [
        "# 💸 Projeto Final | Sistema de Controle Financeiro"
      ]
    },
    {
      "cell_type": "markdown",
      "metadata": {
        "id": "h-tcXISlOEy_"
      },
      "source": [
        "Deverá ser desenvolvido um sistema para controle financeiro que receba as movimentações e as armazena em um arquivo csv ou json.\n",
        "\n",
        "O sistema deverá ser capaz de realizar as seguintes operações:\n",
        "\n",
        "- **Criar** novos registros e identificar a data que o registro foi feito, qual tipo de movimentação, valor.\n",
        "\n",
        "  - Os tipos podem ser:\n",
        "    - Receita: o valor deve ser tratado como numérico e armazenado normalmente.\n",
        "    - Despesas: o valor deve ser recebido como positivo, mas armazenado como negativo\n",
        "    - Investimento: deve ter uma informação a mais de 'Montante', em que será calculado quanto o dinheiro rendeu desde o dia que foi investido.\n",
        "    Para essa finalidade utilize a seguinte formula: $M = C * (1 + i)^t$ ([Saiba mais](https://matematicafinanceira.org/juros-compostos/)), considere tudo em dias.\n",
        "- **Ler** registros: Deverá ser possível consultar os registros por data, tipo ou valor.\n",
        "- **Atualizar** registros: No caso de atualização, pode-se atualizar o valor, o tipo e a data deverá ser a de atualização do registro.\n",
        "- **Deletar**: Deverá ser possível deletar o registro (caso necessário, considere o indice do elemento como ID)\n",
        "\n",
        "Outras funcionalidades:\n",
        "- Crie uma função ```atualiza_rendimento``` que atualize os valores de rendimento sempre que chamada.\n",
        "- Crie uma função ```exportar_relatorio```, que seja possível exportar um relatorio final em csv ou json.\n",
        "- Crie pelo menos uma função de agrupamento, que seja capaz de mostrar o total de valor baseado em alguma informação (mes, tipo...)\n",
        "- Crie valores separados para identificar a data (dia, mes, ano)\n",
        "\n",
        "---\n",
        "\n",
        "👩‍💻 **O que vai ser avaliado**:\n",
        "\n",
        "- Se as funções e operações cuprem o seu objetivo\n",
        "- Reprodutibilidade do código: vou executar!\n",
        "\n",
        "👉🏻 **Envio do projeto**:\n",
        "- Via LMS **individualmente.** <br>\n",
        "  Apesar de ser em grupo, cada um de vocês precisa submeter o projeto.\n",
        "- Formato: arquivo .py ou .ipynb.\n",
        "- 📅 29/01, até as 23h59.\n",
        "\n",
        "⚠️ **Atenção**:\n",
        "- Não utilize a biblioteca pandas para resolução desse exercício\n"
      ]
    },
    {
      "cell_type": "code",
      "execution_count": 2,
      "metadata": {
        "id": "leqPgFh2vFT1"
      },
      "outputs": [],
      "source": [
        "from datetime import datetime\n",
        "data_atual = datetime.now().strftime(\"%Y-%m-%d\")\n",
        "\n",
        "dados = {'receita': [], 'despesa': [], 'data': [], 'investimento': []}\n",
        "\n",
        "def criar_registro(receita, despesa, data=data_atual, taxa_investimento=0.1):\n",
        "  dados['receita'] = dados['receita'] + [float(receita)]\n",
        "  dados['despesa'] = dados['despesa'] + [(-1)*float(despesa)]\n",
        "  dados['data'] = dados['data'] + [data]\n",
        "  if len(dados['data']) == 1:\n",
        "    dados['investimento'] = dados['investimento'] + [float(receita) - float(despesa)]\n",
        "  else:\n",
        "    C = dados['investimento'][-1]\n",
        "    t = int(datetime.strptime(dados['data'][-1], \"%Y-%m-%d\").day) - int(datetime.strptime(dados['data'][-2], \"%Y-%m-%d\").day)\n",
        "    M = C * (1 + taxa_investimento)**t + dados['receita'][-1] + dados['despesa'][-1]\n",
        "    if t < 0:\n",
        "      print(t)\n",
        "    dados['investimento'] = dados['investimento'] + [M]\n",
        "\n",
        "  return dados\n",
        "\n",
        "\n"
      ]
    },
    {
      "cell_type": "code",
      "execution_count": 3,
      "metadata": {
        "id": "QSYfGqfZwvRh"
      },
      "outputs": [
        {
          "data": {
            "text/plain": [
              "{'receita': [100.0],\n",
              " 'despesa': [-50.0],\n",
              " 'data': ['2023-12-01'],\n",
              " 'investimento': [50.0]}"
            ]
          },
          "execution_count": 3,
          "metadata": {},
          "output_type": "execute_result"
        }
      ],
      "source": [
        "criar_registro(100,50,'2023-12-01')"
      ]
    },
    {
      "cell_type": "code",
      "execution_count": 4,
      "metadata": {
        "id": "tkjcw_1u39zP"
      },
      "outputs": [
        {
          "data": {
            "text/plain": [
              "{'receita': [100.0, 101.0],\n",
              " 'despesa': [-50.0, -51.0],\n",
              " 'data': ['2023-12-01', '2023-12-10'],\n",
              " 'investimento': [50.0, 167.89738455000008]}"
            ]
          },
          "execution_count": 4,
          "metadata": {},
          "output_type": "execute_result"
        }
      ],
      "source": [
        "criar_registro(101,51, '2023-12-10')"
      ]
    },
    {
      "cell_type": "code",
      "execution_count": 5,
      "metadata": {
        "id": "pLg-8kjB8tFZ"
      },
      "outputs": [
        {
          "data": {
            "text/plain": [
              "{'receita': [100.0, 101.0, 200.0],\n",
              " 'despesa': [-50.0, -51.0, -100.0],\n",
              " 'data': ['2023-12-01', '2023-12-10', '2023-12-13'],\n",
              " 'investimento': [50.0, 167.89738455000008, 323.4714188360502]}"
            ]
          },
          "execution_count": 5,
          "metadata": {},
          "output_type": "execute_result"
        }
      ],
      "source": [
        "criar_registro(200,100, '2023-12-13')"
      ]
    },
    {
      "cell_type": "code",
      "execution_count": 6,
      "metadata": {
        "id": "GzsRTnTaMPdY"
      },
      "outputs": [
        {
          "data": {
            "text/plain": [
              "{'receita': [100.0, 101.0, 200.0, 201.0],\n",
              " 'despesa': [-50.0, -51.0, -100.0, -101.0],\n",
              " 'data': ['2023-12-01', '2023-12-10', '2023-12-13', '2024-01-18'],\n",
              " 'investimento': [50.0,\n",
              "  167.89738455000008,\n",
              "  323.4714188360502,\n",
              "  620.9539547496473]}"
            ]
          },
          "execution_count": 6,
          "metadata": {},
          "output_type": "execute_result"
        }
      ],
      "source": [
        "criar_registro(201,101)"
      ]
    },
    {
      "cell_type": "code",
      "execution_count": 7,
      "metadata": {
        "id": "Ni77YskIOJjq"
      },
      "outputs": [
        {
          "name": "stdout",
          "output_type": "stream",
          "text": [
            "-6\n"
          ]
        },
        {
          "data": {
            "text/plain": [
              "{'receita': [100.0, 101.0, 200.0, 201.0, 202.0],\n",
              " 'despesa': [-50.0, -51.0, -100.0, -101.0, -102.0],\n",
              " 'data': ['2023-12-01',\n",
              "  '2023-12-10',\n",
              "  '2023-12-13',\n",
              "  '2024-01-18',\n",
              "  '2023-12-12'],\n",
              " 'investimento': [50.0,\n",
              "  167.89738455000008,\n",
              "  323.4714188360502,\n",
              "  620.9539547496473,\n",
              "  450.51231921996873]}"
            ]
          },
          "execution_count": 7,
          "metadata": {},
          "output_type": "execute_result"
        }
      ],
      "source": [
        "criar_registro(202,102, '2023-12-12')"
      ]
    },
    {
      "cell_type": "markdown",
      "metadata": {},
      "source": [
        "Verificar a varição de datas negativas!"
      ]
    },
    {
      "cell_type": "markdown",
      "metadata": {},
      "source": [
        "Criar os inputs para o usuário!"
      ]
    },
    {
      "cell_type": "markdown",
      "metadata": {},
      "source": []
    }
  ],
  "metadata": {
    "colab": {
      "private_outputs": true,
      "provenance": []
    },
    "kernelspec": {
      "display_name": "Python 3",
      "language": "python",
      "name": "python3"
    },
    "language_info": {
      "codemirror_mode": {
        "name": "ipython",
        "version": 3
      },
      "file_extension": ".py",
      "mimetype": "text/x-python",
      "name": "python",
      "nbconvert_exporter": "python",
      "pygments_lexer": "ipython3",
      "version": "3.12.1"
    }
  },
  "nbformat": 4,
  "nbformat_minor": 0
}
